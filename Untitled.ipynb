{
 "cells": [
  {
   "cell_type": "code",
   "execution_count": null,
   "metadata": {},
   "outputs": [],
   "source": []
  },
  {
   "cell_type": "markdown",
   "metadata": {},
   "source": [
    "# **<center>ANALIZADOR</center>**\n",
    "------\n",
    "------\n",
    "\n",
    "### Datos Academicos 📖\n",
    "\n",
    "#### Docente:\n",
    "- **Vanesa Lavilla Alvarez** - _Docente_ - [Concytec](http://directorio.concytec.gob.pe/appDirectorioCTI/VerDatosInvestigador.do;jsessionid=c5a14b2abf78a327623f1a7ccd0f?id_investigador=114602).\n",
    "\n",
    "#### Trabajo:\n",
    "- Realizar un analizador gramatico que dado un conjunto de reglas de entrada pueda analizar las reglas, en busca de problemas de recursion o ambiguedad, para luego poder corregirlas y mostrar el resultado.\n",
    "\n",
    "#### Autores:✒️\n",
    "\n",
    "- **Widmar Raul** - _GitHub Account_ - [WidmarO](https://github.com/WidmarO)\n",
    "- **Melanie Indira** - _GitHub Account_ - [Melanie279](https://github.com/Melanie279)\n",
    "- **Nadiabeth Diana** - _GitHub Account_ - [Nadiabeth15](https://github.com/Nadiabeth15)\n",
    "------\n",
    "\n",
    "## Empezamos... 🚀\n",
    "Para un mayor entendimiento del programa realizamos un diagrama de flujo, el cual muestra una secuencia de pasos que componen el proceso del programa.\n",
    "\n",
    "\n",
    "## Diagrama de flujo\n",
    "    \n",
    "![alt text](diagrama.png)\n",
    "\n",
    "### Construido con... 🛠️\n",
    "\n",
    "- Lenguaje: Python 3.6.9\n",
    "- Google Colaboratory y Jupyter Notebook\n",
    "- Visual Paradigm (diagrama de flujo)\n",
    "\n",
    "## Codificacion del programa 📄\n",
    "\n",
    "A continuacion mostramos los modulos mas importantes del programa...\n",
    "\n",
    "### Modulo que recibe los datos \n",
    "Ingresadas las reglas el modulo LeerDatos recibe como parametro las reglas en un string separadas las lineas por \"\\n\" y devuelve un arreglo con las reglas separadas por lineas.\n"
   ]
  },
  {
   "cell_type": "code",
   "execution_count": null,
   "metadata": {},
   "outputs": [],
   "source": [
    "Datos_de_entrada = \"E -> E + E | E + (E) | (E)\\nE -> E - T\\nE -> Var | Num\\nVar -> a | b | c\\nNum -> 0 | 1 | 2\"\n",
    "\n",
    "def LeerDatos(entrada):\n",
    "  reglas = entrada.split(\"\\n\")\n",
    "  reglas = [item for item in reglas if item]\n",
    "  return reglas\n",
    "\n",
    "print(LeerDatos(Datos_de_entrada),\"\\n\")\n",
    "reglas = LeerDatos(Datos_de_entrada)\n",
    "for i in aux:\n",
    "    print(i)"
   ]
  },
  {
   "cell_type": "markdown",
   "metadata": {},
   "source": [
    "### Modulo que estructura la informacion\n",
    "Ya recuperados los datos en un arreglo, debemos organizar la informacion para poder tratar los datos de mejor manera; este modulo recibe como parametro el arreglo con las reglas obtenidas y retorna un diccionario donde las llaves son los estados no terminales y los valores son arreglos con subarreglos con las reglas separando el primer estado de los demas."
   ]
  },
  {
   "cell_type": "code",
   "execution_count": null,
   "metadata": {},
   "outputs": [],
   "source": [
    "def OrganizarToAnalisis(reglas):\n",
    "  dic = {}\n",
    "  for row in reglas:\n",
    "    aux = row.split(\" -> \",1)\n",
    "    premisa = aux[0]\n",
    "    dic[premisa] = []\n",
    "\n",
    "  for row in reglas:\n",
    "    aux = row.split(\" -> \",1) \n",
    "    premisa = aux[0]\n",
    "    derecha = aux[1]\n",
    "    arreglo = derecha.split(\" | \")\n",
    "    for token in arreglo:      \n",
    "      aux = token.split(' ',1)\n",
    "      dic[premisa].append(aux)\n",
    "  return dic\n",
    "#\n",
    "diccionario1 = OrganizarToAnalisis(reglas)\n",
    "for i in diccionario1:\n",
    "    print(i,\":\",diccionario1[i])"
   ]
  },
  {
   "cell_type": "code",
   "execution_count": null,
   "metadata": {},
   "outputs": [],
   "source": []
  },
  {
   "cell_type": "markdown",
   "metadata": {},
   "source": []
  }
 ],
 "metadata": {
  "kernelspec": {
   "display_name": "Python 3",
   "language": "python",
   "name": "python3"
  },
  "language_info": {
   "codemirror_mode": {
    "name": "ipython",
    "version": 3
   },
   "file_extension": ".py",
   "mimetype": "text/x-python",
   "name": "python",
   "nbconvert_exporter": "python",
   "pygments_lexer": "ipython3",
   "version": "3.6.9"
  }
 },
 "nbformat": 4,
 "nbformat_minor": 4
}
