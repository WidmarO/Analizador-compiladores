{
 "cells": [
  {
   "cell_type": "markdown",
   "metadata": {},
   "source": [
    "# **<center> 💻 ANALIZADOR GRAMATICO (COMPILADORES) 💻 </center>**\n",
    "------\n",
    "### Datos Academicos 📖\n",
    "- **Institucion:** Universidad Nacional de San Antonio Abad del Cusco\n",
    "- **Facultad:** Facultad de ingenieria electrica, electronica, informatica y mecanica\n",
    "- **Escuela Prof:** Ingenieria Informatica y de Sistemas\n",
    "\n",
    "#### Docente: \n",
    "- **Vanesa Lavilla Alvarez** - _Docente_ - [Concytec](http://directorio.concytec.gob.pe/appDirectorioCTI/VerDatosInvestigador.do;jsessionid=c5a14b2abf78a327623f1a7ccd0f?id_investigador=114602).\n",
    "\n",
    "#### Trabajo:\n",
    "- Realizar un analizador gramatico que dado un conjunto de reglas de entrada pueda analizar las reglas, en busca de problemas de recursion o ambiguedad, para luego poder corregirlas y mostrar el resultado.\n",
    "- Una vez corregidas las reglas obtenemos tambien el conjunto primeros para cada estado, y el conjunto no terminal para estado no terminal.\n",
    "- Obtenidos ya los conjuntos primeros y siguientes, proseguimos a realiza la tabla DLL. \n",
    "\n",
    "#### Autores:✒️\n",
    "\n",
    "- **Widmar Raul Quispe Leon** - _GitHub Account_ - [WidmarO](https://github.com/WidmarO)\n",
    "- **Melanie Indira Sullca Peralta** - _GitHub Account_ - [Melanie279](https://github.com/Melanie279)\n",
    "- **Nadiabeth Diana Mallqui Apaza** - _GitHub Account_ - [Nadiabeth15](https://github.com/Nadiabeth15)\n",
    "------\n",
    "NOTA: Diculpe las faltas ortograficas tales como tildes, dieresis y demas faltas encontradas a lo largo del cuaderno, esto se debe a que se uso unicamente una distribucion de teclado en ingles para escribir el presente el cual no tiene acceso a dichos caracteres.\n",
    "\n",
    "## Empezamos... 🚀\n",
    "Para un mayor entendimiento del programa realizamos un diagrama de flujo, el cual muestra una secuencia de pasos que componen el proceso del programa.\n",
    "\n",
    "### Ejemplos...\n",
    "\n",
    "Dado el siguiente conjunto de reglas determinar si tienen problemas de ambiguedad o recursividad, si es el caso corregirlos.\n",
    "\n",
    "```py\n",
    "# Conjunto de reglas\n",
    "S -> Var := E\n",
    "E -> E + E | E + (E) | (E)\n",
    "E -> E - T\n",
    "E -> Var | Num\n",
    "Var -> a | b | c | d | e\n",
    "Num -> 0 | 1 | 2 | 3 | 9\n",
    "# Tiene Recursividad y Ambiguedad\n",
    "# Corregimos Recursividad\n",
    "S -> Var := E\n",
    "E -> (E) E' | Var E' | Num E'\n",
    "E' -> + E E' | + (E) E' | - T E' | ε\n",
    "Var -> a | b | c | d | e\n",
    "Num -> 0 | 1 | 2 | 3 | 9\n",
    "# Aun tiene problemas de Ambiguedad\n",
    "# corregimos ambiguedad\n",
    "S -> Var := E\n",
    "E -> (E) E' | Var E' | Num E'\n",
    "E' -> + E'' | - T E' | ε\n",
    "E'' -> E E' | (E) E'\n",
    "Var -> a | b | c | d | e\n",
    "Num -> 0 | 1 | 2 | 3 | 9\n",
    "# Ahora nuestras reglas no tienen problemas de ambiguedad ni recursividad :)\n",
    "# Procedemos a encontrar los conjuntos primeros y siguientes\n",
    "First ( b ) = { 'b'} \n",
    "First ( 3 ) = { '3'} \n",
    "First ( 2 ) = { '2'} \n",
    "First ( T ) = { 'T'} \n",
    "First ( e ) = { 'e'} \n",
    "First ( 1 ) = { '1'} \n",
    "First ( + ) = { '+'} \n",
    "First ( c ) = { 'c'} \n",
    "First ( ) ) = { ')'} \n",
    "First ( S ) = { 'b', 'e', 'd', 'a', 'c'} \n",
    "First ( E ) = { 'b', '9', '1', '3', 'd', '0', '2', '(', 'c', 'e', 'a'} \n",
    "First ( E' ) = { '+', 'ε', '-'} \n",
    "First ( E'' ) = { 'b', '9', '1', '3', 'd', '0', '2', '(', 'c', 'e', 'a'} \n",
    "First ( Var ) = { 'b', 'd', 'c', 'e', 'a'} \n",
    "First ( Num ) = { '9', '1', '3', '0', '2'} \n",
    "# Obtenidos los conjuntos primeros y siguientes procedemos a construir nuestra tabla.\n",
    "```\n",
    "![tabla.png](https://raw.githubusercontent.com/WidmarO/Analizador-compiladores/master/img/tabla.png)\n",
    "## Diagrama de flujo\n",
    "\n",
    "![diagrama.png](https://raw.githubusercontent.com/WidmarO/Analizador-compiladores/master/img/diagrama.png)\n",
    "\n",
    "### Construido con... 🛠️\n",
    "* Lenguaje: [Python 3.6.9](https://www.python.org/)\n",
    "* Servicio Cloud: [Google Colaboratory](https://colab.research.google.com/notebooks/intro.ipynb)\n",
    "* Servicio Local: [Jupyter-Notebook](https://jupyter.org/)\n",
    "* Diagrama de flujo: [Visual Paradigm](https://www.visual-paradigm.com/)\n",
    "* Interfaz Grafica: [tkinter](https://docs.python.org/2/library/tkinter.html)\n",
    "* Editor: [Visual Studio Code](https://code.visualstudio.com/)\n",
    "\n",
    "## Codificacion del programa 📄\n",
    "\n",
    "A continuacion mostramos los modulos mas importantes del programa...\n",
    "\n",
    "### Modulo que recibe los datos \n",
    "Ingresadas las reglas el modulo LeerDatos recibe como parametro las reglas en un string separadas las lineas por \"\\n\" y devuelve un arreglo con las reglas separadas por lineas.\n"
   ]
  },
  {
   "cell_type": "code",
   "execution_count": 9,
   "metadata": {
    "scrolled": true
   },
   "outputs": [
    {
     "name": "stdout",
     "output_type": "stream",
     "text": [
      "E -> E + E | E + (E) | (E)\n",
      "E -> E - T\n",
      "E -> Var | Num\n",
      "Var -> a | b | c\n",
      "Num -> 0 | 1 | 2\n"
     ]
    }
   ],
   "source": [
    "# E -> E + E | E + (E) | (E)\n",
    "# E -> E - T\n",
    "# E -> Var | Num\n",
    "# Var -> a | b | c\n",
    "# Num -> 0 | 1 | 2\n",
    "\n",
    "Datos_de_entrada = \"E -> E + E | E + (E) | (E)\\nE -> E - T\\nE -> Var | Num\\nVar -> a | b | c\\nNum -> 0 | 1 | 2\"\n",
    "# print(\"hola\")\n",
    "def LeerDatos(entrada):\n",
    "  reglas = entrada.split(\"\\n\")\n",
    "  reglas = [item for item in reglas if item]\n",
    "  for i in range(len(reglas)):\n",
    "    while(reglas[i][len(reglas[i])-1] == ' '):\n",
    "      reglas[i] = reglas[i][:-1]\n",
    "#   print(\"modulo LeerDatos en modulos.py\\n\",reglas)\n",
    "  return reglas\n",
    "reglas = LeerDatos(Datos_de_entrada)\n",
    "for i in reglas:\n",
    "    print(i)"
   ]
  },
  {
   "cell_type": "markdown",
   "metadata": {},
   "source": [
    "### Modulo que estructura la informacion\n",
    "Ya recuperados los datos en un arreglo, debemos organizar la informacion para poder tratar los datos de mejor manera; este modulo recibe como parametro el arreglo con las reglas obtenidas y retorna un diccionario donde las llaves son los estados no terminales y los valores son arreglos con subarreglos con las reglas separando el primer estado de los demas."
   ]
  },
  {
   "cell_type": "code",
   "execution_count": 10,
   "metadata": {},
   "outputs": [
    {
     "name": "stdout",
     "output_type": "stream",
     "text": [
      "E : [['E', '+ E'], ['E', '+ (E)'], ['(E)'], ['E', '- T'], ['Var'], ['Num']]\n",
      "Var : [['a'], ['b'], ['c']]\n",
      "Num : [['0'], ['1'], ['2']]\n"
     ]
    }
   ],
   "source": [
    "def OrganizarToAnalisis(reglas):\n",
    "  dic = {}\n",
    "  for row in reglas:\n",
    "    aux = row.split(\" -> \",1)\n",
    "    premisa = aux[0]\n",
    "    dic[premisa] = []\n",
    "\n",
    "  for row in reglas:\n",
    "    aux = row.split(\" -> \",1) \n",
    "    premisa = aux[0]\n",
    "    derecha = aux[1]\n",
    "    arreglo = derecha.split(\" | \")\n",
    "    for token in arreglo:      \n",
    "      aux = token.split(' ',1)\n",
    "      dic[premisa].append(aux)\n",
    "  return dic\n",
    "#\n",
    "diccionario1 = OrganizarToAnalisis(reglas)\n",
    "for i in diccionario1:\n",
    "    print(i,\":\",diccionario1[i])"
   ]
  },
  {
   "cell_type": "markdown",
   "metadata": {},
   "source": [
    "### Modulo que Analiza si existe problemas de recursion\n",
    "Este modulo recibe como parametro un diccionario obtenido del modulo anterior, analiza segun esa estructura y retorna una lista con los estados en los que se ha encontrado algun error de recursion, si la lista esta vacia es por que no existe errores de recursion."
   ]
  },
  {
   "cell_type": "code",
   "execution_count": 11,
   "metadata": {},
   "outputs": [
    {
     "name": "stdout",
     "output_type": "stream",
     "text": [
      "Existe errores de recursion en:  ['E']\n"
     ]
    }
   ],
   "source": [
    "def AnalizarForRec(dic):\n",
    "  errores = []\n",
    "  for e in dic:\n",
    "    for token in dic[e]:\n",
    "      if (token[0] == e):\n",
    "        # print(\"Existe Recursividad\")\n",
    "        errores.append(e)\n",
    "  errores = list(set(errores))\n",
    "\n",
    "  if (len(errores) > 0):\n",
    "    return errores\n",
    "  else:\n",
    "    # print(\"No hay problemas de Recursividad\")\n",
    "    return errores\n",
    "#\n",
    "err_rec = AnalizarForRec(diccionario1)\n",
    "if(len(err_rec) > 0):\n",
    "    print(\"Existe errores de recursion en: \", err_rec)\n",
    "else:\n",
    "    print(\"No existe errores de recursion: \",err_rec)"
   ]
  },
  {
   "cell_type": "markdown",
   "metadata": {},
   "source": [
    "### Modulo que Analiza si existe problemas de Ambiguedad\n",
    "Este modulo recibe como parametro un diccionario estructurado como el que devuelve el modulo \"OrganizarToAnalisis\", analiza segun esa estructura y retorna un diccionario con los estados en los que se ha encontrado algun error de ambiguedad como valores y como llaves el estado que ocaciona esa ambiguedad con mayor repeticiones, si el diccionario esta vacio es por que no existe errores de recursion."
   ]
  },
  {
   "cell_type": "code",
   "execution_count": 12,
   "metadata": {},
   "outputs": [
    {
     "name": "stdout",
     "output_type": "stream",
     "text": [
      "{'E': 'E'}\n",
      "Existe errores de Ambiguedad: {'E': 'E'}\n"
     ]
    }
   ],
   "source": [
    "def AnalizarForAmb(dic):\n",
    "  errores = {}\n",
    "  aux = {}\n",
    "  for e in dic:\n",
    "    aux[e] = {}\n",
    "    for token in dic[e]:\n",
    "      aux[e][token[0]] = 0\n",
    "\n",
    "  for e in dic:\n",
    "    mayor = 0\n",
    "    letra = \"\"\n",
    "    for token in dic[e]:\n",
    "      aux[e][token[0]] += 1\n",
    "      if (aux[e][token[0]] > mayor and aux[e][token[0]] > 1):\n",
    "        mayor = aux[e][token[0]]\n",
    "        letra = token[0]\n",
    "\n",
    "    if (letra != \"\"):\n",
    "      errores[e] = letra\n",
    "\n",
    "  if (len(errores) > 0):\n",
    "    # print(\"Existe Ambiguedad en \" + e)\n",
    "    print(errores)\n",
    "    return errores\n",
    "  else:\n",
    "    # print(\"No hay problemas de Ambiguedad\")\n",
    "    return errores\n",
    "#\n",
    "err_amb = AnalizarForAmb(diccionario1)\n",
    "if (len(err_amb) > 0):\n",
    "    print(\"Existe errores de Ambiguedad:\",err_amb)\n",
    "else:\n",
    "    print(\"No existen errores de Ambiguedad:\",err_amb)"
   ]
  },
  {
   "cell_type": "markdown",
   "metadata": {},
   "source": [
    "### Modulo que corrige los problemas de recursion\n",
    "Este modulo corrige los problemas de recursion encontrados al analizar las reglas con el modulo \"AnalizarForRec\", recibe como parametro un diccionario estructurado para la correcion y retorna un diccionario corregido."
   ]
  },
  {
   "cell_type": "code",
   "execution_count": 13,
   "metadata": {},
   "outputs": [
    {
     "name": "stdout",
     "output_type": "stream",
     "text": [
      "{'E': [[\"(E) E'\"], [\"Var E'\"], [\"Num E'\"]], \"E'\": [[\"+ E E'\"], [\"+ (E) E'\"], [\"- T E'\"], ['ε']], 'Var': [['a'], ['b'], ['c']], 'Num': [['0'], ['1'], ['2']]}\n",
      "E : [[\"(E) E'\"], [\"Var E'\"], [\"Num E'\"]]\n",
      "E' : [[\"+ E E'\"], [\"+ (E) E'\"], [\"- T E'\"], ['ε']]\n",
      "Var : [['a'], ['b'], ['c']]\n",
      "Num : [['0'], ['1'], ['2']]\n"
     ]
    }
   ],
   "source": [
    "def CorregirRec(dic):\n",
    "  err = AnalizarForRec(dic)\n",
    "  corregido = {}\n",
    "  for e in dic:\n",
    "    if e in err:\n",
    "      corregido[e] = []\n",
    "      corregido[e + \"'\"] = []\n",
    "      for token in dic[e]:\n",
    "        if (e != token[0]):\n",
    "          corregido[e].append([token[0] + \" \" + e + \"'\"])\n",
    "        else:\n",
    "          corregido[e + \"'\"].append([(token[1]) + \" \" + e + \"'\"])\n",
    "      corregido[e + \"'\"].append([\"ε\"])\n",
    "    else:\n",
    "      corregido[e] = dic[e]  \n",
    "  print(corregido)\n",
    "  return corregido\n",
    "\n",
    "diccionario2 = CorregirRec(diccionario1)\n",
    "for i in diccionario2:\n",
    "    print(i,\":\",diccionario2[i])"
   ]
  },
  {
   "cell_type": "markdown",
   "metadata": {},
   "source": [
    "### Modulo que corrige los problemas de ambiguedad\n",
    "El modulo \"CorregirAmb\" hace uso de otros dos modulos que juntos solucionan los problemas de ambiguedad encontrados en el analisis de las reglas con el modulo \"AnalizarForAmb\", como parametro de entrada recibe un diccionario estructurado y retorna un diccionario corregido."
   ]
  },
  {
   "cell_type": "code",
   "execution_count": 14,
   "metadata": {},
   "outputs": [
    {
     "name": "stdout",
     "output_type": "stream",
     "text": [
      "{'E': [[\"(E) E'\"], [\"Var E'\"], [\"Num E'\"]], \"E'\": [[\"+ E E'\"], [\"+ (E) E'\"], [\"- T E'\"], ['ε']], 'Var': [['a'], ['b'], ['c']], 'Num': [['0'], ['1'], ['2']]}\n",
      "E [[\"(E) E'\"], [\"Var E'\"], [\"Num E'\"]]\n",
      "E' [[\"+ E E'\"], [\"+ (E) E'\"], [\"- T E'\"], ['ε']]\n",
      "Var [['a'], ['b'], ['c']]\n",
      "Num [['0'], ['1'], ['2']]\n"
     ]
    }
   ],
   "source": [
    "def CorregirUnaAmb(dic):\n",
    "  err = AnalizarForAmb(dic)\n",
    "  corregido = {}\n",
    "  for e in dic:\n",
    "    # print(\"esete es el e: \",e)\n",
    "    if e in err:\n",
    "      # print(\"entro en e.values\", e)\n",
    "      corregido[e] = []\n",
    "      corregido[e + \"'\"] = []\n",
    "      corregido[e].append([err[e] + \" \" + e + \"'\"])\n",
    "      for token in dic[e]:\n",
    "        if (token[0] == err[e] and len(token) == 1):\n",
    "          continue\n",
    "\n",
    "        if (token[0] != err[e]):\n",
    "          corregido[e].append(token)\n",
    "        else:\n",
    "          if (len(token) == 1):\n",
    "            corregido[e + \"'\"].append(token)\n",
    "          else:\n",
    "            corregido[e + \"'\"].append([token[1]])      \n",
    "    else:\n",
    "      corregido[e] = dic[e]  \n",
    "  return corregido\n",
    "\n",
    "def Reorganizar(dic):\n",
    "  for e in dic:\n",
    "    for i in range(len(dic[e])):\n",
    "      if (len(dic[e][i]) == 1):\n",
    "        dic[e][i] = dic[e][i][0].split(' ',1)\n",
    "  return dic\n",
    "\n",
    "def CorregirAmb(dic):\n",
    "  err = AnalizarForAmb(dic)\n",
    "  dic3 = dic\n",
    "  while(len(err) != 0):\n",
    "    err = AnalizarForAmb(dic3)\n",
    "    dic3 = CorregirUnaAmb(dic3)\n",
    "    dic3 = Reorganizar(dic3)\n",
    "  print(dic3)\n",
    "  return dic3\n",
    "\n",
    "diccionario3 = CorregirAmb(diccionario2)\n",
    "for i in diccionario3:\n",
    "    print(i,diccionario3[i])"
   ]
  },
  {
   "cell_type": "markdown",
   "metadata": {},
   "source": [
    "### Modulo que Muestra los valores de los diccionarios\n",
    "Este modulo toma como parametro de entrada un diccionario estructurado y lo convierte en un string separando las lineas por \"\\n\"."
   ]
  },
  {
   "cell_type": "code",
   "execution_count": 15,
   "metadata": {},
   "outputs": [
    {
     "name": "stdout",
     "output_type": "stream",
     "text": [
      "E -> (E) E' | Var E' | Num E' \n",
      "E' -> + E E' | + (E) E' | - T E' | ε \n",
      "Var -> a | b | c \n",
      "Num -> 0 | 1 | 2 \n",
      "\n"
     ]
    }
   ],
   "source": [
    "def MostrarCorregido(dic):\n",
    "  rpta = \"\"\n",
    "  for premisa in dic:\n",
    "    chrs = premisa + \" -> \"\n",
    "    for regla in dic[premisa]:\n",
    "      aux = \" \".join(regla)\n",
    "      chrs += aux + ' | '\n",
    "    chrs = chrs[:-2] + \"\\n\"\n",
    "    rpta += chrs\n",
    "  return rpta\n",
    "\n",
    "to_show = MostrarCorregido(diccionario3)\n",
    "auxiliar = to_show.split(\"\\n\")\n",
    "for _ in auxiliar:\n",
    "    print(_)\n"
   ]
  },
  {
   "cell_type": "markdown",
   "metadata": {},
   "source": [
    "### Modulo que obtiene los valores de estados No terminales\n",
    "Este modulo toma como parametro de entrada un diccionario estructurado y lo retorna una lista con los valores de los estados no terminales como elementos."
   ]
  },
  {
   "cell_type": "code",
   "execution_count": 16,
   "metadata": {},
   "outputs": [
    {
     "name": "stdout",
     "output_type": "stream",
     "text": [
      "['E', \"E'\", 'Var', 'Num']\n"
     ]
    }
   ],
   "source": [
    "\n",
    "def NoTerminales(dic):\n",
    "  nonTerminals = []\n",
    "  for e in dic:\n",
    "    if e not in nonTerminals:\n",
    "      nonTerminals.append(e)\n",
    "  \n",
    "  return nonTerminals\n",
    "\n",
    "no_terminales = NoTerminales(diccionario3)\n",
    "print(no_terminales)"
   ]
  },
  {
   "cell_type": "markdown",
   "metadata": {},
   "source": [
    "### Modulo que obtiene los valores de estados Terminales\n",
    "Este modulo toma como parametro de entrada un diccionario estructurado y lo retorna una lista con los valores de los estados terminales como elementos."
   ]
  },
  {
   "cell_type": "code",
   "execution_count": 17,
   "metadata": {},
   "outputs": [
    {
     "name": "stdout",
     "output_type": "stream",
     "text": [
      "['(', 'b', '2', '-', '1', ')', '0', 'a', 'c', 'T', '+']\n"
     ]
    }
   ],
   "source": [
    "def Terminales(dic):\n",
    "  no_terminales = NoTerminales(dic)\n",
    "  terminales = []\n",
    "  for e in dic:\n",
    "    for token in dic[e]:\n",
    "      for est in token:\n",
    "        for x in est.split(' '):          \n",
    "          terminales.append(x)\n",
    "  \n",
    "  for e in terminales:\n",
    "    if(e[0] == '(' or e[0] == '[' or e[0] == '{'):\n",
    "      terminales.remove(e)\n",
    "      for i in e:\n",
    "        terminales.append(i)\n",
    "\n",
    "  terminales = list(set(terminales))\n",
    "  for i in no_terminales:\n",
    "    if (i in terminales):\n",
    "      terminales.remove(i)\n",
    "  \n",
    "  if ('ε' in terminales):\n",
    "    terminales.remove('ε')\n",
    "\n",
    "  return terminales\n",
    "\n",
    "terminales = Terminales(diccionario3)\n",
    "print(terminales)"
   ]
  },
  {
   "cell_type": "markdown",
   "metadata": {},
   "source": [
    "### Modulo que el conjunto primeros en general.\n",
    "Este modulo toma como parametro de entrada un diccionario estructurado y retorna un diccionario que tiene como llaves los estados no terminales y como valor para cada uno tiene el conjuntos de primeros de dicho estado."
   ]
  },
  {
   "cell_type": "code",
   "execution_count": 18,
   "metadata": {},
   "outputs": [
    {
     "name": "stdout",
     "output_type": "stream",
     "text": [
      "E [\"Num E'\", \"Var E'\", '(']\n",
      "E' ['ε', \"+ E E'\", \"- T E'\", \"+ (E) E'\"]\n",
      "Var ['a', 'c', 'b']\n",
      "Num ['0', '2', '1']\n",
      "( ['(']\n",
      "b ['b']\n",
      "2 ['2']\n",
      "- ['-']\n",
      "1 ['1']\n",
      ") [')']\n",
      "0 ['0']\n",
      "a ['a']\n",
      "c ['c']\n",
      "T ['T']\n",
      "+ ['+']\n"
     ]
    }
   ],
   "source": [
    "def PrimerosSimples(dic):\n",
    "  terminales = Terminales(dic)\n",
    "  no_terminales = NoTerminales(dic)\n",
    "  todos = list(no_terminales + terminales)\n",
    "  conj_primeros = {}\n",
    "\n",
    "  for e in todos:\n",
    "    conj_primeros[e] = set()\n",
    "\n",
    "  for i in terminales:\n",
    "    if(i == \"ε\"):\n",
    "      continue\n",
    "    else:\n",
    "      conj_primeros[i].add(i)\n",
    "\n",
    "  for e in dic:\n",
    "    for token in dic[e]:\n",
    "      if (len(token[0]) > 1 and (token[0][0] == \"(\" or token[0][0] == \"[\")):\n",
    "        conj_primeros[e].add(token[0][0])\n",
    "      else:\n",
    "        conj_primeros[e].add(token[0])      \n",
    "\n",
    "  for e in conj_primeros:\n",
    "    conj_primeros[e] = list(conj_primeros[e])\n",
    "\n",
    "  return conj_primeros\n",
    "\n",
    "primeros_simples = PrimerosSimples(diccionario3)\n",
    "for i in primeros_simples:\n",
    "    print(i,primeros_simples[i])"
   ]
  },
  {
   "cell_type": "markdown",
   "metadata": {},
   "source": [
    "### Modulo que obtiene el conjunto primeros solo de los estados terminales\n",
    "Este modulo toma como parametro de entrada un diccionario estructurado y lo retorna una lista con los valores de los estados terminales como elementos."
   ]
  },
  {
   "cell_type": "code",
   "execution_count": 19,
   "metadata": {},
   "outputs": [
    {
     "name": "stdout",
     "output_type": "stream",
     "text": [
      "( {'('}\n",
      "b {'b'}\n",
      "2 {'2'}\n",
      "- {'-'}\n",
      "1 {'1'}\n",
      ") {')'}\n",
      "0 {'0'}\n",
      "a {'a'}\n",
      "c {'c'}\n",
      "T {'T'}\n",
      "+ {'+'}\n"
     ]
    }
   ],
   "source": [
    "def PrimerosTerminales(dic):\n",
    "  terminales = Terminales(dic)\n",
    "  primeros = PrimerosSimples(dic)\n",
    "  aux = []\n",
    "  for e in primeros:\n",
    "    if (e not in terminales):\n",
    "      aux.append(e)\n",
    "\n",
    "  for x in aux:\n",
    "    del primeros[x]\n",
    "  \n",
    "  for e in primeros:\n",
    "    primeros[e] = set(primeros[e])\n",
    "\n",
    "  return primeros\n",
    "\n",
    "primeros_terminales = PrimerosTerminales(diccionario3)\n",
    "for i in primeros_terminales:\n",
    "    print(i,primeros_terminales[i])"
   ]
  },
  {
   "cell_type": "markdown",
   "metadata": {},
   "source": [
    "### Modulo que obtiene el conjunto primeros solo para los estados no terminales\n",
    "Este modulo toma como parametro de entrada un diccionario estructurado y retorna un diccionario con los valores de los estados no terminales como llaves y su conjunto de siguientes como valor."
   ]
  },
  {
   "cell_type": "code",
   "execution_count": 20,
   "metadata": {},
   "outputs": [
    {
     "name": "stdout",
     "output_type": "stream",
     "text": [
      "E {\"Num E'\", '(', \"Var E'\"}\n",
      "E' {'ε', \"+ E E'\", \"- T E'\", \"+ (E) E'\"}\n",
      "Var {'a', 'c', 'b'}\n",
      "Num {'0', '2', '1'}\n"
     ]
    }
   ],
   "source": [
    "def PrimerosNoTerminales(dic):\n",
    "  no_terminales = NoTerminales(dic)\n",
    "  solo_primeros = PrimerosSimples(dic)\n",
    "  answer = {}\n",
    "  for e in no_terminales:\n",
    "    answer[e] = set()\n",
    "  for e in no_terminales:\n",
    "    # if (len(answer[e]) > 0):\n",
    "      # continue\n",
    "    # else:        \n",
    "    answer[e] = getPrimeros(e,answer,no_terminales,solo_primeros)\n",
    "  return answer\n",
    "\n",
    "def getPrimeros(e,ans,no_terminales,prims):  \n",
    "  for i in prims[e]:\n",
    "    if (i not in no_terminales):\n",
    "      ans[e].add(i)\n",
    "    else:\n",
    "      ans[e] = ans[e].union(getPrimeros(i,ans,no_terminales,prims))\n",
    "  return ans[e]\n",
    "\n",
    "primeros_no_terminales = PrimerosNoTerminales(diccionario3)\n",
    "for i in primeros_no_terminales:\n",
    "    print(i,primeros_no_terminales[i])"
   ]
  },
  {
   "cell_type": "markdown",
   "metadata": {},
   "source": [
    "### Una captura de la interfaz (Analizador_v3.0)\n",
    "\n",
    "- Cada boton toma los datos del display1 (Entrada reglas) asi que el boton <<< actualiza el resultado del display2 en el display1.\n",
    "\n",
    "![captura.png](https://raw.githubusercontent.com/WidmarO/Analizador-compiladores/master/img/interfaz2.png)"
   ]
  },
  {
   "cell_type": "markdown",
   "metadata": {},
   "source": [
    "### Modulo que obtiene un diccionario con los elementos separados para usarlo en siguientes\n",
    "Este modulo toma como parametro de entrada un diccionario estructurado que tiene como llave las premisas y como valores las reglas y retorna el mismo diccionario pero con las reglas separadas al minimo, hasta separar cada estado."
   ]
  },
  {
   "cell_type": "code",
   "execution_count": 21,
   "metadata": {},
   "outputs": [
    {
     "name": "stdout",
     "output_type": "stream",
     "text": [
      "E [['(', 'E', ')', \"E'\"], ['Var', \"E'\"], ['Num', \"E'\"]]\n",
      "E' [['+', 'E', \"E'\"], ['+', '(', 'E', ')', \"E'\"], ['-', 'T', \"E'\"], ['ε']]\n",
      "Var [['a'], ['b'], ['c']]\n",
      "Num [['0'], ['1'], ['2']]\n"
     ]
    }
   ],
   "source": [
    "def SplitForFollows(dic):\n",
    "  dic2 = dic\n",
    "  for e in dic:\n",
    "    aux = []\n",
    "    for token in dic[e]:      \n",
    "      x = []\n",
    "      for tok in token:\n",
    "        for st in tok.split(' '):\n",
    "          if(len(st) > 1 and (st[0] == \"(\" or st[0] == \"[\" or st[0] == '{')):\n",
    "            for i in st:\n",
    "              x.append(i)\n",
    "          else:\n",
    "            x.append(st)\n",
    "      aux.append(x)\n",
    "    dic[e] = aux \n",
    "#   for _ in dic:\n",
    "#     print(_,dic[_])\n",
    "#   Siguientes(dic,dic2)\n",
    "  return dic\n",
    "separados = SplitForFollows(diccionario3)\n",
    "for i in separados:\n",
    "    print(i,separados[i])"
   ]
  },
  {
   "cell_type": "markdown",
   "metadata": {},
   "source": [
    "### Modulo que obtiene el conjunto primeros solo para todos los estados\n",
    "Este modulo toma como parametro de entrada un diccionario estructurado y retorna un diccionario con los conjuntos primeros para cada estado de la entrada tante de los estados terminales y no terminales"
   ]
  },
  {
   "cell_type": "code",
   "execution_count": 22,
   "metadata": {},
   "outputs": [
    {
     "name": "stdout",
     "output_type": "stream",
     "text": [
      "E {'0', '(', '2', 'c', 'b', '1', 'a'}\n",
      "E' {'ε', '+', '-'}\n",
      "Var {'a', 'c', 'b'}\n",
      "Num {'0', '2', '1'}\n",
      "( {'('}\n",
      ") {')'}\n",
      "+ {'+'}\n",
      "- {'-'}\n",
      "b {'b'}\n",
      "1 {'1'}\n",
      "2 {'2'}\n",
      "0 {'0'}\n",
      "a {'a'}\n",
      "c {'c'}\n",
      "T {'T'}\n"
     ]
    }
   ],
   "source": [
    "def PrimerosTodos(dic):\n",
    "  ans = {}\n",
    "  ans = PrimerosNoTerminales(dic)\n",
    "  ans.update(PrimerosTerminales(dic))\n",
    "  return ans\n",
    "todos = PrimerosTodos(diccionario3)\n",
    "for i in todos:\n",
    "    print(i,todos[i])"
   ]
  },
  {
   "cell_type": "markdown",
   "metadata": {},
   "source": [
    "### Modulo que obtiene el conjunto siguientes\n",
    "Este modulo toma como parametro de entrada el diccionario separado que devuelve el modulo SplitForFollows y el diccionario organizado de la entrada, retorna un diccionario con los conjuntos siguientes para cada estado no terminal."
   ]
  },
  {
   "cell_type": "code",
   "execution_count": 23,
   "metadata": {},
   "outputs": [
    {
     "name": "stdout",
     "output_type": "stream",
     "text": [
      "E {'+', '-', ')', '$'}\n",
      "E' {'+', ')', '$', '-'}\n",
      "Var {')', '$', '+', '-'}\n",
      "Num {'+', ')', '$', '-'}\n"
     ]
    }
   ],
   "source": [
    "def Siguientes(dic,dic2): # recibe el diccionario que devuelve SplitForFollows\n",
    "  primeros = PrimerosTodos(dic2)\n",
    "  no_terminales = NoTerminales(dic2)\n",
    "  ans = {}\n",
    "  for e in dic:\n",
    "    ans[e] = set()\n",
    "\n",
    "  ans[no_terminales[0]].add('$')\n",
    "  for e in dic:\n",
    "    pila = []\n",
    "    ans[e] = getSiguientes(e,dic,ans,primeros,pila)\n",
    "    # print(ans)\n",
    "  return ans\n",
    "\n",
    "def getSiguientes(e,dic,ans,primeros,pila):\n",
    "  if(e in pila):\n",
    "#     print(ans)\n",
    "    return ans[e]\n",
    "\n",
    "  pila.append(e)  \n",
    "  for premisa in dic:\n",
    "    for regla in dic[premisa]:\n",
    "      for ind in range(len(regla)):\n",
    "        if( e == regla[ind]):\n",
    "          if (ind != (len(regla) -1)):\n",
    "            for prim in primeros[regla[ind + 1]]:\n",
    "              if (prim == 'ε' or regla[ind + 1] == 'ε'):\n",
    "                ans[e] = ans[e].union(getSiguientes(premisa,dic,ans,primeros,pila))\n",
    "              else:\n",
    "                ans[e].add(prim)\n",
    "          else:\n",
    "            ans[e] = ans[e].union(getSiguientes(premisa,dic,ans,primeros,pila))\n",
    "  pila.pop()\n",
    "#   print(ans)\n",
    "  return ans[e]\n",
    "\n",
    "siguientes = Siguientes(separados,diccionario3)\n",
    "for _ in siguientes:\n",
    "    print(_,siguientes[_])\n"
   ]
  },
  {
   "cell_type": "markdown",
   "metadata": {},
   "source": [
    "### Modulo que genera o construye la tabla ll\n",
    "Este modulo toma como parametro de entrada un diccionario estructurado, pero dentro hace uso de todos los modulos importantes previos y retorna un diccionario de diccionarios."
   ]
  },
  {
   "cell_type": "code",
   "execution_count": 24,
   "metadata": {},
   "outputs": [
    {
     "name": "stdout",
     "output_type": "stream",
     "text": [
      "E {'(': {'E -> [\\'(\\', \\'E\\', \\')\\', \"E\\'\"]'}, ')': set(), '+': set(), '-': set(), '0': {'E -> [\\'Num\\', \"E\\'\"]'}, '1': {'E -> [\\'Num\\', \"E\\'\"]'}, '2': {'E -> [\\'Num\\', \"E\\'\"]'}, 'T': set(), 'a': {'E -> [\\'Var\\', \"E\\'\"]'}, 'b': {'E -> [\\'Var\\', \"E\\'\"]'}, 'c': {'E -> [\\'Var\\', \"E\\'\"]'}, '$': set()}\n",
      "E' {'(': set(), ')': {\"E' -> ['ε']\"}, '+': {'E\\' -> [\\'+\\', \\'E\\', \"E\\'\"]', \"E' -> ['ε']\", 'E\\' -> [\\'+\\', \\'(\\', \\'E\\', \\')\\', \"E\\'\"]'}, '-': {\"E' -> ['ε']\", 'E\\' -> [\\'-\\', \\'T\\', \"E\\'\"]'}, '0': set(), '1': set(), '2': set(), 'T': set(), 'a': set(), 'b': set(), 'c': set(), '$': {\"E' -> ['ε']\"}}\n",
      "Var {'(': set(), ')': set(), '+': set(), '-': set(), '0': set(), '1': set(), '2': set(), 'T': set(), 'a': {\"Var -> ['a']\"}, 'b': {\"Var -> ['b']\"}, 'c': {\"Var -> ['c']\"}, '$': set()}\n",
      "Num {'(': set(), ')': set(), '+': set(), '-': set(), '0': {\"Num -> ['0']\"}, '1': {\"Num -> ['1']\"}, '2': {\"Num -> ['2']\"}, 'T': set(), 'a': set(), 'b': set(), 'c': set(), '$': set()}\n"
     ]
    }
   ],
   "source": [
    "def getTabla(dic):\n",
    "  primeros = PrimerosTodos(dic)\n",
    "  # primeros['ε'] = ['ε']\n",
    "  reglas_separadas = SplitForFollows(dic)\n",
    "  siguientes = Siguientes(reglas_separadas,dic)\n",
    "  terminales = sorted(Terminales(dic))\n",
    "  terminales.append('$')\n",
    "  no_terminales = NoTerminales(dic)\n",
    "  prim_simples = PrimerosSimples(dic)\n",
    "\n",
    "  M = {}\n",
    "  for nt in no_terminales:\n",
    "    M[nt] = {}\n",
    "    for t in terminales:\n",
    "      M[nt][t] = set()\n",
    "\n",
    "  for premisa in dic:\n",
    "    for regla in dic[premisa]:     \n",
    "      p = regla[0]\n",
    "      if (p == 'ε'):\n",
    "        for sig in siguientes[premisa]:\n",
    "          M[premisa][sig].add(str(premisa) + \" -> \" + str(regla))\n",
    "      else:\n",
    "        for prim in primeros[p]:\n",
    "          if(prim != 'ε'):\n",
    "            M[premisa][prim].add(str(premisa) + \" -> \" + str(regla))\n",
    "\n",
    "\n",
    "  for nt in M:\n",
    "    print(nt,M[nt])\n",
    "    \n",
    "getTabla(diccionario3)"
   ]
  },
  {
   "cell_type": "markdown",
   "metadata": {},
   "source": [
    "### Modulo que analiza una cadena dada y muestra el proceso\n",
    "Este modulo toma como parametro de entrada una cadena y un diccionario estructurado y retorna una matriz con el proceso paso a paso para validar o rechazar la cadena dada."
   ]
  },
  {
   "cell_type": "code",
   "execution_count": 40,
   "metadata": {},
   "outputs": [
    {
     "name": "stdout",
     "output_type": "stream",
     "text": [
      "E {'(': {'E -> [\\'(\\', \\'E\\', \\')\\', \"E\\'\"]'}, ')': set(), '+': set(), '-': set(), '0': {'E -> [\\'Num\\', \"E\\'\"]'}, '1': {'E -> [\\'Num\\', \"E\\'\"]'}, '2': {'E -> [\\'Num\\', \"E\\'\"]'}, 'T': set(), 'a': {'E -> [\\'Var\\', \"E\\'\"]'}, 'b': {'E -> [\\'Var\\', \"E\\'\"]'}, 'c': {'E -> [\\'Var\\', \"E\\'\"]'}, '$': set()}\n",
      "E' {'(': set(), ')': {\"E' -> ['ε']\"}, '+': {'E\\' -> [\\'+\\', \\'E\\', \"E\\'\"]', \"E' -> ['ε']\", 'E\\' -> [\\'+\\', \\'(\\', \\'E\\', \\')\\', \"E\\'\"]'}, '-': {\"E' -> ['ε']\", 'E\\' -> [\\'-\\', \\'T\\', \"E\\'\"]'}, '0': set(), '1': set(), '2': set(), 'T': set(), 'a': set(), 'b': set(), 'c': set(), '$': {\"E' -> ['ε']\"}}\n",
      "Var {'(': set(), ')': set(), '+': set(), '-': set(), '0': set(), '1': set(), '2': set(), 'T': set(), 'a': {\"Var -> ['a']\"}, 'b': {\"Var -> ['b']\"}, 'c': {\"Var -> ['c']\"}, '$': set()}\n",
      "Num {'(': set(), ')': set(), '+': set(), '-': set(), '0': {\"Num -> ['0']\"}, '1': {\"Num -> ['1']\"}, '2': {\"Num -> ['2']\"}, 'T': set(), 'a': set(), 'b': set(), 'c': set(), '$': set()}\n"
     ]
    },
    {
     "ename": "TypeError",
     "evalue": "'NoneType' object is not subscriptable",
     "output_type": "error",
     "traceback": [
      "\u001b[0;31m---------------------------------------------------------------------------\u001b[0m",
      "\u001b[0;31mTypeError\u001b[0m                                 Traceback (most recent call last)",
      "\u001b[0;32m<ipython-input-40-b7fa2b6043d1>\u001b[0m in \u001b[0;36m<module>\u001b[0;34m\u001b[0m\n\u001b[1;32m     78\u001b[0m   \u001b[0;32mreturn\u001b[0m \u001b[0mflag\u001b[0m\u001b[0;34m,\u001b[0m\u001b[0mM\u001b[0m\u001b[0;34m\u001b[0m\u001b[0;34m\u001b[0m\u001b[0m\n\u001b[1;32m     79\u001b[0m \u001b[0;31m# print(\"hola\")\u001b[0m\u001b[0;34m\u001b[0m\u001b[0;34m\u001b[0m\u001b[0;34m\u001b[0m\u001b[0m\n\u001b[0;32m---> 80\u001b[0;31m \u001b[0mf\u001b[0m\u001b[0;34m,\u001b[0m\u001b[0mM\u001b[0m \u001b[0;34m=\u001b[0m \u001b[0mcadenas\u001b[0m\u001b[0;34m(\u001b[0m\u001b[0;34m'((x;x);x)$'\u001b[0m\u001b[0;34m,\u001b[0m\u001b[0mdiccionario3\u001b[0m\u001b[0;34m)\u001b[0m\u001b[0;34m\u001b[0m\u001b[0;34m\u001b[0m\u001b[0m\n\u001b[0m",
      "\u001b[0;32m<ipython-input-40-b7fa2b6043d1>\u001b[0m in \u001b[0;36mcadenas\u001b[0;34m(cadena, dic)\u001b[0m\n\u001b[1;32m     35\u001b[0m       \u001b[0;31m# print('coincide')\u001b[0m\u001b[0;34m\u001b[0m\u001b[0;34m\u001b[0m\u001b[0;34m\u001b[0m\u001b[0m\n\u001b[1;32m     36\u001b[0m     \u001b[0;32melse\u001b[0m\u001b[0;34m:\u001b[0m\u001b[0;34m\u001b[0m\u001b[0;34m\u001b[0m\u001b[0m\n\u001b[0;32m---> 37\u001b[0;31m       \u001b[0maccion\u001b[0m \u001b[0;34m=\u001b[0m \u001b[0mtabla\u001b[0m\u001b[0;34m[\u001b[0m\u001b[0mpila\u001b[0m\u001b[0;34m[\u001b[0m\u001b[0;34m-\u001b[0m\u001b[0;36m1\u001b[0m\u001b[0;34m]\u001b[0m\u001b[0;34m]\u001b[0m\u001b[0;34m[\u001b[0m\u001b[0mcadena\u001b[0m\u001b[0;34m[\u001b[0m\u001b[0;34m-\u001b[0m\u001b[0;36m1\u001b[0m\u001b[0;34m]\u001b[0m\u001b[0;34m]\u001b[0m\u001b[0;34m\u001b[0m\u001b[0;34m\u001b[0m\u001b[0m\n\u001b[0m\u001b[1;32m     38\u001b[0m       \u001b[0maccion\u001b[0m \u001b[0;34m=\u001b[0m \u001b[0mstr\u001b[0m\u001b[0;34m(\u001b[0m\u001b[0maccion\u001b[0m\u001b[0;34m)\u001b[0m\u001b[0;34m\u001b[0m\u001b[0;34m\u001b[0m\u001b[0m\n\u001b[1;32m     39\u001b[0m       \u001b[0maccion\u001b[0m \u001b[0;34m=\u001b[0m \u001b[0maccion\u001b[0m\u001b[0;34m[\u001b[0m\u001b[0;36m2\u001b[0m\u001b[0;34m:\u001b[0m\u001b[0;34m-\u001b[0m\u001b[0;36m2\u001b[0m\u001b[0;34m]\u001b[0m\u001b[0;34m\u001b[0m\u001b[0;34m\u001b[0m\u001b[0m\n",
      "\u001b[0;31mTypeError\u001b[0m: 'NoneType' object is not subscriptable"
     ]
    }
   ],
   "source": [
    "def cadenas(cadena,dic):\n",
    "  non_terminal = NoTerminales(dic)\n",
    "  tabla = getTabla(dic)\n",
    "  cadena = list(cadena)\n",
    "  cadena.reverse()\n",
    "  pila = []\n",
    "  pila.append('$')\n",
    "  pila.append(non_terminal[0])\n",
    "  accion = \"\"\n",
    "\n",
    "  tabla_pila = []\n",
    "  tabla_cadena = []\n",
    "  tabla_accion = []\n",
    "\n",
    "  str_pila = \"\"\n",
    "  for i in pila:\n",
    "    str_pila += i\n",
    "  tabla_pila.append(str_pila)\n",
    "\n",
    "  str_cadena = \"\"\n",
    "  for i in cadena:\n",
    "    str_cadena += i\n",
    "  tabla_cadena.append(str_cadena)\n",
    "  tabla_accion.append('')\n",
    "#   print(tabla_pila[0],\"\\t\",tabla_cadena[0],\"\\t\",tabla_accion[0])  \n",
    "\n",
    "  flag = 0\n",
    "  while(len(pila) > 1 and len(cadena) > 1):\n",
    "    if(pila[-1] == cadena[-1]):\n",
    "      pila.pop()\n",
    "      tabla_pila.append(''.join(pila))\n",
    "      cadena.pop()\n",
    "      tabla_cadena.append(''.join(cadena))\n",
    "      tabla_accion.append('coincide')\n",
    "      # print('coincide')\n",
    "    else:\n",
    "      accion = tabla[pila[-1]][cadena[-1]]\n",
    "      accion = str(accion)\n",
    "      accion = accion[2:-2]\n",
    "      tabla_accion.append(str(accion))\n",
    "      print(\"accion\",accion)\n",
    "      if(accion == \"error\"):\n",
    "        flag = -1\n",
    "        break\n",
    "      accion = accion.split(' -> ')[1]\n",
    "      accion = accion.split()\n",
    "      # print(accion)\n",
    "      accion.reverse()\n",
    "      # pila.pop()\n",
    "      if ('ε' in accion):\n",
    "        pila.pop()        \n",
    "        tabla_pila.append(''.join(pila))\n",
    "        tabla_cadena.append(''.join(cadena))\n",
    "      else:\n",
    "        pila.pop()                          \n",
    "        for i in accion:                \n",
    "          pila.append(i)\n",
    "        tabla_pila.append(''.join(pila))\n",
    "        tabla_cadena.append(''.join(cadena))\n",
    "\n",
    "  M = []\n",
    "\n",
    "  for r in range(len(tabla_pila)):\n",
    "    M.append([])    \n",
    "    M[r].append(tabla_pila[r][::-1])\n",
    "    M[r].append(tabla_cadena[r][::-1])\n",
    "\n",
    "  for r in range(len(tabla_pila)-1):\n",
    "    M[r].append(tabla_accion[r+1])\n",
    "  if (flag == -1):\n",
    "    M[len(tabla_pila)-1].append(\"Incorrecto\")  \n",
    "  else:\n",
    "    M[len(tabla_pila)-1].append(\"Correcto\")\n",
    "\n",
    "  for r in M:\n",
    "    print(r)\n",
    "\n",
    "  return flag,M\n",
    "# print(\"hola\")\n",
    "f,M = cadenas('((x;x);x)$',diccionario3)"
   ]
  },
  {
   "cell_type": "markdown",
   "metadata": {},
   "source": [
    "### Una captura de la interfaz (Analizador_v1.0 )\n",
    "\n",
    "- Cada boton toma los datos del display1 (Entrada reglas) asi que el boton <<< actualiza el resultado del display2 en el display1.\n",
    "\n",
    "\n",
    "![interfaz1.png](https://raw.githubusercontent.com/WidmarO/Analizador-compiladores/master/img/interfaz1.png)"
   ]
  },
  {
   "cell_type": "markdown",
   "metadata": {},
   "source": [
    "### Una captura de la interfaz (Analizador_v2.0 )\n",
    "\n",
    "- Cada boton toma los datos del display1 (Entrada reglas) asi que el boton <<< actualiza el resultado del display2 en el display1.\n",
    "- Esta nueva version ademas de poder obtener los conjuntos primeros y siguientes.\n",
    "\n",
    "\n",
    "![interfaz2.png](https://raw.githubusercontent.com/WidmarO/Analizador-compiladores/master/img/interfaz2.png)"
   ]
  },
  {
   "cell_type": "markdown",
   "metadata": {},
   "source": [
    "### Una captura de la interfaz (Analizador_v3.0 )\n",
    "\n",
    "- Cada boton toma los datos del display1 (Entrada reglas) asi que el boton <<< actualiza el resultado del display2 en el display1.\n",
    "- Esta nueva version ademas de poder obtener los conjuntos primeros y siguientes construye tambien la tabla dll.\n",
    "\n",
    "\n",
    "![interfaz3.png](https://raw.githubusercontent.com/WidmarO/Analizador-compiladores/master/img/interfaz3.png)"
   ]
  }
 ],
 "metadata": {
  "kernelspec": {
   "display_name": "Python 3",
   "language": "python",
   "name": "python3"
  },
  "language_info": {
   "codemirror_mode": {
    "name": "ipython",
    "version": 3
   },
   "file_extension": ".py",
   "mimetype": "text/x-python",
   "name": "python",
   "nbconvert_exporter": "python",
   "pygments_lexer": "ipython3",
   "version": "3.6.9"
  }
 },
 "nbformat": 4,
 "nbformat_minor": 4
}
