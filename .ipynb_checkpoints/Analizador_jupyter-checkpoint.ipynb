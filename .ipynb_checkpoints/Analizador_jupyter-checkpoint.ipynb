{
 "cells": [
  {
   "cell_type": "markdown",
   "metadata": {},
   "source": [
    "# **<center>ANALIZADOR GRAMATICO (COMPILADORES)</center>**\n",
    "------\n",
    "### Datos Academicos 📖\n",
    "- **Institucion:** Universidad Nacional de San Antonio Abad del Cusco\n",
    "- **Facultad:** Facultad de ingieneria electrica, electronica, informatica y mecanica\n",
    "- **Escuela Prof:** Ingieneria Informatica y de Sistemas\n",
    "\n",
    "#### Docente: \n",
    "- **Vanesa Lavilla Alvarez** - _Docente_ - [Concytec](http://directorio.concytec.gob.pe/appDirectorioCTI/VerDatosInvestigador.do;jsessionid=c5a14b2abf78a327623f1a7ccd0f?id_investigador=114602).\n",
    "\n",
    "#### Trabajo:\n",
    "- Realizar un analizador gramatico que dado un conjunto de reglas de entrada pueda analizar las reglas, en busca de problemas de recursion o ambiguedad, para luego poder corregirlas y mostrar el resultado.\n",
    "\n",
    "#### Autores:✒️\n",
    "\n",
    "- **Widmar Raul Quispe Leon** - _GitHub Account_ - [WidmarO](https://github.com/WidmarO)\n",
    "- **Melanie Indira Sullca Peralta** - _GitHub Account_ - [Melanie279](https://github.com/Melanie279)\n",
    "- **Nadiabeth Diana Mallqui Apaza** - _GitHub Account_ - [Nadiabeth15](https://github.com/Nadiabeth15)\n",
    "------\n",
    "NOTA: Diculpe las faltas ortograficas tales como tildes, dieresis y demas faltas encontradas a lo largo del cuaderno, esto se debe a que se uso unicamente una distribucion de teclado en ingles para escribir el presente el cual no tiene acceso a dichos caracteres.\n",
    "\n",
    "## Empezamos... 🚀\n",
    "Para un mayor entendimiento del programa realizamos un diagrama de flujo, el cual muestra una secuencia de pasos que componen el proceso del programa.\n",
    "\n",
    "### Ejemplos...\n",
    "\n",
    "Dado el siguiente conjunto de reglas determinar si tienen problemas de ambiguedad o recursividad, si es el caso corregirlos.\n",
    "\n",
    "```py\n",
    "# Conjunto de reglas\n",
    "S -> Var := E\n",
    "E -> E + E | E + (E) | (E)\n",
    "E -> E - T\n",
    "E -> Var | Num\n",
    "Var -> a | b | c | d | e\n",
    "Num -> 0 | 1 | 2 | 3 | 9\n",
    "# Tiene Recursividad y Ambiguedad\n",
    "# Corregimos Recursividad\n",
    "S -> Var := E\n",
    "E -> (E) E' | Var E' | Num E'\n",
    "E' -> + E E' | + (E) E' | - T E' | ε\n",
    "Var -> a | b | c | d | e\n",
    "Num -> 0 | 1 | 2 | 3 | 9\n",
    "# Aun tiene problemas de Ambiguedad\n",
    "# corregimos ambiguedad\n",
    "S -> Var := E\n",
    "E -> (E) E' | Var E' | Num E'\n",
    "E' -> + E'' | - T E' | ε\n",
    "E'' -> E E' | (E) E'\n",
    "Var -> a | b | c | d | e\n",
    "Num -> 0 | 1 | 2 | 3 | 9\n",
    "# Ahora nuestras reglas no tienen problemas de ambiguedad ni recursividad :)\n",
    "```\n",
    "\n",
    "\n",
    "## Diagrama de flujo\n",
    "\n",
    "![diagrama.png](https://raw.githubusercontent.com/WidmarO/Analizador-compiladores/master/img/diagrama.png)\n",
    "\n",
    "### Construido con... 🛠️\n",
    "* Lenguaje: [Python 3.6.9](https://www.python.org/)\n",
    "* Servicio Cloud: [Google Colaboratory](https://colab.research.google.com/notebooks/intro.ipynb)\n",
    "* Servicio Local: [Jupyter-Notebook](https://jupyter.org/)\n",
    "* Diagrama de flujo: [Visual Paradigm](https://www.visual-paradigm.com/)\n",
    "* Interfaz Grafica: [tkinter](https://docs.python.org/2/library/tkinter.html)\n",
    "* Editor: [Visual Studio Code](https://code.visualstudio.com/)\n",
    "\n",
    "## Codificacion del programa 📄\n",
    "\n",
    "A continuacion mostramos los modulos mas importantes del programa...\n",
    "\n",
    "### Modulo que recibe los datos \n",
    "Ingresadas las reglas el modulo LeerDatos recibe como parametro las reglas en un string separadas las lineas por \"\\n\" y devuelve un arreglo con las reglas separadas por lineas.\n"
   ]
  },
  {
   "cell_type": "code",
   "execution_count": 2,
   "metadata": {},
   "outputs": [
    {
     "name": "stdout",
     "output_type": "stream",
     "text": [
      "['E -> E + E | E + (E) | (E)', 'E -> E - T', 'E -> Var | Num', 'Var -> a | b | c', 'Num -> 0 | 1 | 2'] \n",
      "\n",
      "E -> E + E | E + (E) | (E)\n",
      "E -> E - T\n",
      "E -> Var | Num\n",
      "Var -> a | b | c\n",
      "Num -> 0 | 1 | 2\n"
     ]
    }
   ],
   "source": [
    "# E -> E + E | E + (E) | (E)\n",
    "# E -> E - T\n",
    "# E -> Var | Num\n",
    "# Var -> a | b | c\n",
    "# Num -> 0 | 1 | 2\n",
    "\n",
    "Datos_de_entrada = \"E -> E + E | E + (E) | (E)\\nE -> E - T\\nE -> Var | Num\\nVar -> a | b | c\\nNum -> 0 | 1 | 2\"\n",
    "\n",
    "def LeerDatos(entrada):\n",
    "  reglas = entrada.split(\"\\n\")\n",
    "  reglas = [item for item in reglas if item]\n",
    "  return reglas\n",
    "\n",
    "print(LeerDatos(Datos_de_entrada),\"\\n\")\n",
    "reglas = LeerDatos(Datos_de_entrada)\n",
    "for i in reglas:\n",
    "    print(i)"
   ]
  },
  {
   "cell_type": "markdown",
   "metadata": {},
   "source": [
    "### Modulo que estructura la informacion\n",
    "Ya recuperados los datos en un arreglo, debemos organizar la informacion para poder tratar los datos de mejor manera; este modulo recibe como parametro el arreglo con las reglas obtenidas y retorna un diccionario donde las llaves son los estados no terminales y los valores son arreglos con subarreglos con las reglas separando el primer estado de los demas."
   ]
  },
  {
   "cell_type": "code",
   "execution_count": 3,
   "metadata": {},
   "outputs": [
    {
     "name": "stdout",
     "output_type": "stream",
     "text": [
      "E : [['E', '+ E'], ['E', '+ (E)'], ['(E)'], ['E', '- T'], ['Var'], ['Num']]\n",
      "Var : [['a'], ['b'], ['c']]\n",
      "Num : [['0'], ['1'], ['2']]\n"
     ]
    }
   ],
   "source": [
    "def OrganizarToAnalisis(reglas):\n",
    "  dic = {}\n",
    "  for row in reglas:\n",
    "    aux = row.split(\" -> \",1)\n",
    "    premisa = aux[0]\n",
    "    dic[premisa] = []\n",
    "\n",
    "  for row in reglas:\n",
    "    aux = row.split(\" -> \",1) \n",
    "    premisa = aux[0]\n",
    "    derecha = aux[1]\n",
    "    arreglo = derecha.split(\" | \")\n",
    "    for token in arreglo:      \n",
    "      aux = token.split(' ',1)\n",
    "      dic[premisa].append(aux)\n",
    "  return dic\n",
    "#\n",
    "diccionario1 = OrganizarToAnalisis(reglas)\n",
    "for i in diccionario1:\n",
    "    print(i,\":\",diccionario1[i])"
   ]
  },
  {
   "cell_type": "markdown",
   "metadata": {},
   "source": [
    "### Modulo que Analiza si existe problemas de recursion\n",
    "Este modulo recibe como parametro un diccionario obtenido del modulo anterior, analiza segun esa estructura y retorna una lista con los estados en los que se ha encontrado algun error de recursion, si la lista esta vacia es por que no existe errores de recursion."
   ]
  },
  {
   "cell_type": "code",
   "execution_count": 5,
   "metadata": {},
   "outputs": [
    {
     "name": "stdout",
     "output_type": "stream",
     "text": [
      "Existe errores de recursion en:  ['E']\n"
     ]
    }
   ],
   "source": [
    "def AnalizarForRec(dic):\n",
    "  errores = []\n",
    "  for e in dic:\n",
    "    for token in dic[e]:\n",
    "      if (token[0] == e):\n",
    "        # print(\"Existe Recursividad\")\n",
    "        errores.append(e)\n",
    "  errores = list(set(errores))\n",
    "\n",
    "  if (len(errores) > 0):\n",
    "    return errores\n",
    "  else:\n",
    "    # print(\"No hay problemas de Recursividad\")\n",
    "    return errores\n",
    "#\n",
    "err_rec = AnalizarForRec(diccionario1)\n",
    "if(len(err_rec) > 0):\n",
    "    print(\"Existe errores de recursion en: \", err_rec)\n",
    "else:\n",
    "    print(\"No existe errores de recursion: \",err_rec)"
   ]
  },
  {
   "cell_type": "markdown",
   "metadata": {},
   "source": [
    "### Modulo que Analiza si existe problemas de Ambiguedad\n",
    "Este modulo recibe como parametro un diccionario estructurado como el que devuelve el modulo \"OrganizarToAnalisis\", analiza segun esa estructura y retorna un diccionario con los estados en los que se ha encontrado algun error de ambiguedad como valores y como llaves el estado que ocaciona esa ambiguedad con mayor repeticiones, si el diccionario esta vacio es por que no existe errores de recursion."
   ]
  },
  {
   "cell_type": "code",
   "execution_count": 6,
   "metadata": {},
   "outputs": [
    {
     "name": "stdout",
     "output_type": "stream",
     "text": [
      "Existe errores de Ambiguedad: {'E': 'E'}\n"
     ]
    }
   ],
   "source": [
    "def AnalizarForAmb(dic):\n",
    "  errores = {}\n",
    "  aux = {}\n",
    "  for e in dic:\n",
    "    aux[e] = {}\n",
    "    for token in dic[e]:\n",
    "      aux[e][token[0]] = 0\n",
    "\n",
    "  for e in dic:\n",
    "    mayor = 0\n",
    "    letra = \"\"\n",
    "    for token in dic[e]:\n",
    "      aux[e][token[0]] += 1\n",
    "      if (aux[e][token[0]] > mayor and aux[e][token[0]] > 1):\n",
    "        mayor = aux[e][token[0]]\n",
    "        letra = token[0]\n",
    "\n",
    "    if (letra != \"\"):\n",
    "      errores[e] = letra\n",
    "\n",
    "  if (len(errores) > 0):\n",
    "    # print(\"Existe Ambiguedad en \" + e)\n",
    "    return errores\n",
    "  else:\n",
    "    # print(\"No hay problemas de Ambiguedad\")\n",
    "    return errores\n",
    "#\n",
    "err_amb = AnalizarForAmb(diccionario1)\n",
    "if (len(err_amb) > 0):\n",
    "    print(\"Existe errores de Ambiguedad:\",err_amb)\n",
    "else:\n",
    "    print(\"No existen errores de Ambiguedad:\",err_amb)"
   ]
  },
  {
   "cell_type": "markdown",
   "metadata": {},
   "source": [
    "### Modulo que corrige los problemas de recursion\n",
    "Este modulo corrige los problemas de recursion encontrados al analizar las reglas con el modulo \"AnalizarForRec\", recibe como parametro un diccionario estructurado para la correcion y retorna un diccionario corregido."
   ]
  },
  {
   "cell_type": "code",
   "execution_count": 13,
   "metadata": {},
   "outputs": [
    {
     "name": "stdout",
     "output_type": "stream",
     "text": [
      "E : [[\"(E) E'\"], [\"Var E'\"], [\"Num E'\"]]\n",
      "E' : [[\"+ E E'\"], [\"+ (E) E'\"], [\"- T E'\"], ['ε']]\n",
      "Var : [['a'], ['b'], ['c']]\n",
      "Num : [['0'], ['1'], ['2']]\n"
     ]
    }
   ],
   "source": [
    "def CorregirRec(dic):\n",
    "  err = AnalizarForRec(dic) #devuelve una lista\n",
    "  corregido = {}\n",
    "  for e in dic:\n",
    "    if e in err:\n",
    "      corregido[e] = []\n",
    "      corregido[e + \"'\"] = []\n",
    "      for token in dic[e]:\n",
    "        if (len(token) == 1):\n",
    "          corregido[e].append([token[0] + \" \" + e + \"'\"])\n",
    "        else:\n",
    "          corregido[e + \"'\"].append([(token[1]) + \" \" + e + \"'\"])\n",
    "      corregido[e + \"'\"].append([\"\\u03B5\"])\n",
    "    else:\n",
    "      corregido[e] = dic[e]  \n",
    "  return corregido\n",
    "\n",
    "diccionario2 = CorregirRec(diccionario1)\n",
    "for i in diccionario2:\n",
    "    print(i,\":\",diccionario2[i])"
   ]
  },
  {
   "cell_type": "markdown",
   "metadata": {},
   "source": [
    "### Modulo que corrige los problemas de ambiguedad\n",
    "El modulo \"CorregirAmb\" hace uso de otros dos modulos que juntos solucionan los problemas de ambiguedad encontrados en el analisis de las reglas con el modulo \"AnalizarForAmb\", como parametro de entrada recibe un diccionario estructurado y retorna un diccionario corregido."
   ]
  },
  {
   "cell_type": "code",
   "execution_count": 32,
   "metadata": {},
   "outputs": [
    {
     "name": "stdout",
     "output_type": "stream",
     "text": [
      "E [['(E)', \"E'\"], ['Var', \"E'\"], ['Num', \"E'\"]]\n",
      "E' [['+', \"E''\"], ['-', \"T E'\"], ['ε']]\n",
      "E'' [['E', \"E'\"], ['(E)', \"E'\"]]\n",
      "Var [['a'], ['b'], ['c']]\n",
      "Num [['0'], ['1'], ['2']]\n"
     ]
    }
   ],
   "source": [
    "def CorregirUnaAmb(dic):\n",
    "  err = AnalizarForAmb(dic)\n",
    "  corregido = {}\n",
    "  for e in dic:\n",
    "    # print(\"esete es el e: \",e)\n",
    "    if e in err:\n",
    "      # print(\"entro en e.values\", e)\n",
    "      corregido[e] = []\n",
    "      corregido[e + \"'\"] = []\n",
    "      corregido[e].append([err[e] + \" \" + e + \"'\"])\n",
    "      for token in dic[e]:\n",
    "        if (token[0] != err[e]):\n",
    "          corregido[e].append(token)\n",
    "        else:\n",
    "          corregido[e + \"'\"].append([token[1]])      \n",
    "    else:\n",
    "      corregido[e] = dic[e]  \n",
    "  return corregido\n",
    "\n",
    "def Reorganizar(dic):\n",
    "  for e in dic:\n",
    "    for i in range(len(dic[e])):\n",
    "      if (len(dic[e][i]) == 1):\n",
    "        dic[e][i] = dic[e][i][0].split(' ',1)\n",
    "  return dic\n",
    "\n",
    "def CorregirAmb(dic):\n",
    "  dic3 = Reorganizar(dic)\n",
    "  err = AnalizarForAmb(dic)\n",
    "  dic3 = dic\n",
    "  while(len(err) != 0):\n",
    "    err = AnalizarForAmb(dic3)\n",
    "    dic3 = CorregirUnaAmb(dic3)\n",
    "    dic3 = Reorganizar(dic3)\n",
    "  return dic3\n",
    "\n",
    "diccionario3 = CorregirAmb(diccionario2)\n",
    "for i in diccionario3:\n",
    "    print(i,diccionario3[i])"
   ]
  },
  {
   "cell_type": "markdown",
   "metadata": {},
   "source": [
    "### Modulo que Muestra los valores de los diccionarios\n",
    "Este modulo toma como parametro de entrada un diccionario estructurado y lo convierte en un string separando las lineas por \"\\n\"."
   ]
  },
  {
   "cell_type": "code",
   "execution_count": 33,
   "metadata": {},
   "outputs": [
    {
     "name": "stdout",
     "output_type": "stream",
     "text": [
      "E -> (E) E' | Var E' | Num E' \n",
      "E' -> + E'' | - T E' | ε \n",
      "E'' -> E E' | (E) E' \n",
      "Var -> a | b | c \n",
      "Num -> 0 | 1 | 2 \n",
      "\n"
     ]
    }
   ],
   "source": [
    "def MostrarCorregido(dic):\n",
    "  rpta = \"\"\n",
    "  for premisa in dic:\n",
    "    chrs = premisa + \" -> \"\n",
    "    for regla in dic[premisa]:\n",
    "      aux = \" \".join(regla)\n",
    "      chrs += aux + ' | '\n",
    "    chrs = chrs[:-2] + \"\\n\"\n",
    "    rpta += chrs\n",
    "  return rpta\n",
    "\n",
    "to_show = MostrarCorregido(diccionario3)\n",
    "auxiliar = to_show.split(\"\\n\")\n",
    "for _ in auxiliar:\n",
    "    print(_)\n"
   ]
  },
  {
   "cell_type": "markdown",
   "metadata": {},
   "source": [
    "### Una captura de la interfaz\n",
    "\n",
    "- Cada boton toma los datos del display1 (Entrada reglas) asi que el boton <<< actualiza el resultado del display2 en el display1.\n",
    "\n",
    "![diagrama.png](https://raw.githubusercontent.com/WidmarO/Analizador-compiladores/master/img/interfaz.png)"
   ]
  }
 ],
 "metadata": {
  "kernelspec": {
   "display_name": "Python 3",
   "language": "python",
   "name": "python3"
  },
  "language_info": {
   "codemirror_mode": {
    "name": "ipython",
    "version": 3
   },
   "file_extension": ".py",
   "mimetype": "text/x-python",
   "name": "python",
   "nbconvert_exporter": "python",
   "pygments_lexer": "ipython3",
   "version": "3.6.9"
  }
 },
 "nbformat": 4,
 "nbformat_minor": 4
}
